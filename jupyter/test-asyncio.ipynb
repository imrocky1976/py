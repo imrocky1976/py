{
  "cells": [
    {
      "metadata": {
        "trusted": true
      },
      "cell_type": "code",
      "source": "import asyncio\nimport aiohttp\nimport time\n\nasync def download_one(url):\n    async with aiohttp.ClientSession() as session:\n        async with session.get(url) as resp:\n            print(f'Read {resp.content_length} from {url}')\n            \nasync def download_all(sites):\n    tasks = [asyncio.create_task(download_one(site)) for site in sites]\n    await asyncio.gather(*tasks)",
      "execution_count": 1,
      "outputs": []
    },
    {
      "metadata": {
        "trusted": true,
        "scrolled": true
      },
      "cell_type": "code",
      "source": "!pip install aiohttp",
      "execution_count": 2,
      "outputs": [
        {
          "output_type": "stream",
          "text": "Requirement already satisfied: aiohttp in /home/nbuser/anaconda3_501/lib/python3.6/site-packages (3.6.2)\nRequirement already satisfied: idna-ssl>=1.0; python_version < \"3.7\" in /home/nbuser/anaconda3_501/lib/python3.6/site-packages (from aiohttp) (1.1.0)\nRequirement already satisfied: multidict<5.0,>=4.5 in /home/nbuser/anaconda3_501/lib/python3.6/site-packages (from aiohttp) (4.6.1)\nRequirement already satisfied: yarl<2.0,>=1.0 in /home/nbuser/anaconda3_501/lib/python3.6/site-packages (from aiohttp) (1.3.0)\nRequirement already satisfied: async-timeout<4.0,>=3.0 in /home/nbuser/anaconda3_501/lib/python3.6/site-packages (from aiohttp) (3.0.1)\nRequirement already satisfied: typing-extensions>=3.6.5; python_version < \"3.7\" in /home/nbuser/anaconda3_501/lib/python3.6/site-packages (from aiohttp) (3.7.4.1)\nRequirement already satisfied: chardet<4.0,>=2.0 in /home/nbuser/anaconda3_501/lib/python3.6/site-packages (from aiohttp) (3.0.4)\nRequirement already satisfied: attrs>=17.3.0 in /home/nbuser/anaconda3_501/lib/python3.6/site-packages (from aiohttp) (18.2.0)\nRequirement already satisfied: idna>=2.0 in /home/nbuser/anaconda3_501/lib/python3.6/site-packages (from idna-ssl>=1.0; python_version < \"3.7\"->aiohttp) (2.7)\n",
          "name": "stdout"
        }
      ]
    },
    {
      "metadata": {
        "trusted": true
      },
      "cell_type": "code",
      "source": "def main():\n    sites = [\n        'https://en.wikipedia.org/wiki/Portal:Arts',\n        'https://en.wikipedia.org/wiki/Portal:History',\n        'https://en.wikipedia.org/wiki/Portal:Society',\n        'https://en.wikipedia.org/wiki/Portal:Biography',\n        'https://en.wikipedia.org/wiki/Portal:Mathematics',\n        'https://en.wikipedia.org/wiki/Portal:Technology',\n        'https://en.wikipedia.org/wiki/Portal:Geography',\n        'https://en.wikipedia.org/wiki/Portal:Science',\n        'https://en.wikipedia.org/wiki/Computer_science',\n        'https://en.wikipedia.org/wiki/Python_(programming_language)',\n        'https://en.wikipedia.org/wiki/Java_(programming_language)',\n        'https://en.wikipedia.org/wiki/PHP',\n        'https://en.wikipedia.org/wiki/Node.js',\n        'https://en.wikipedia.org/wiki/The_C_Programming_Language',\n        'https://en.wikipedia.org/wiki/Go_(programming_language)'\n    ]\n    \n    start_time = time.perf_counter()\n    asyncio.run(download_all(sites))\n    end_time = time.perf_counter()\n    print('Download {} sites in {} seconds'.format(len(sites), end_time - start_time))\n\nif __name__ == '__main__':\n    main()",
      "execution_count": 4,
      "outputs": [
        {
          "output_type": "error",
          "ename": "AttributeError",
          "evalue": "module 'asyncio' has no attribute 'run'",
          "traceback": [
            "\u001b[0;31m---------------------------------------------------------------------------\u001b[0m",
            "\u001b[0;31mAttributeError\u001b[0m                            Traceback (most recent call last)",
            "\u001b[0;32m<ipython-input-4-337ac11cb7ea>\u001b[0m in \u001b[0;36m<module>\u001b[0;34m\u001b[0m\n\u001b[1;32m     24\u001b[0m \u001b[0;34m\u001b[0m\u001b[0m\n\u001b[1;32m     25\u001b[0m \u001b[0;32mif\u001b[0m \u001b[0m__name__\u001b[0m \u001b[0;34m==\u001b[0m \u001b[0;34m'__main__'\u001b[0m\u001b[0;34m:\u001b[0m\u001b[0;34m\u001b[0m\u001b[0m\n\u001b[0;32m---> 26\u001b[0;31m     \u001b[0mmain\u001b[0m\u001b[0;34m(\u001b[0m\u001b[0;34m)\u001b[0m\u001b[0;34m\u001b[0m\u001b[0m\n\u001b[0m",
            "\u001b[0;32m<ipython-input-4-337ac11cb7ea>\u001b[0m in \u001b[0;36mmain\u001b[0;34m()\u001b[0m\n\u001b[1;32m     19\u001b[0m \u001b[0;34m\u001b[0m\u001b[0m\n\u001b[1;32m     20\u001b[0m     \u001b[0mstart_time\u001b[0m \u001b[0;34m=\u001b[0m \u001b[0mtime\u001b[0m\u001b[0;34m.\u001b[0m\u001b[0mperf_counter\u001b[0m\u001b[0;34m(\u001b[0m\u001b[0;34m)\u001b[0m\u001b[0;34m\u001b[0m\u001b[0m\n\u001b[0;32m---> 21\u001b[0;31m     \u001b[0masyncio\u001b[0m\u001b[0;34m.\u001b[0m\u001b[0mrun\u001b[0m\u001b[0;34m(\u001b[0m\u001b[0mdownload_all\u001b[0m\u001b[0;34m(\u001b[0m\u001b[0msites\u001b[0m\u001b[0;34m)\u001b[0m\u001b[0;34m)\u001b[0m\u001b[0;34m\u001b[0m\u001b[0m\n\u001b[0m\u001b[1;32m     22\u001b[0m     \u001b[0mend_time\u001b[0m \u001b[0;34m=\u001b[0m \u001b[0mtime\u001b[0m\u001b[0;34m.\u001b[0m\u001b[0mperf_counter\u001b[0m\u001b[0;34m(\u001b[0m\u001b[0;34m)\u001b[0m\u001b[0;34m\u001b[0m\u001b[0m\n\u001b[1;32m     23\u001b[0m     \u001b[0mprint\u001b[0m\u001b[0;34m(\u001b[0m\u001b[0;34m'Download {} sites in {} seconds'\u001b[0m\u001b[0;34m.\u001b[0m\u001b[0mformat\u001b[0m\u001b[0;34m(\u001b[0m\u001b[0mlen\u001b[0m\u001b[0;34m(\u001b[0m\u001b[0msites\u001b[0m\u001b[0;34m)\u001b[0m\u001b[0;34m,\u001b[0m \u001b[0mend_time\u001b[0m \u001b[0;34m-\u001b[0m \u001b[0mstart_time\u001b[0m\u001b[0;34m)\u001b[0m\u001b[0;34m)\u001b[0m\u001b[0;34m\u001b[0m\u001b[0m\n",
            "\u001b[0;31mAttributeError\u001b[0m: module 'asyncio' has no attribute 'run'"
          ]
        }
      ]
    },
    {
      "metadata": {
        "trusted": true
      },
      "cell_type": "code",
      "source": "",
      "execution_count": null,
      "outputs": []
    }
  ],
  "metadata": {
    "kernelspec": {
      "name": "python36",
      "display_name": "Python 3.6",
      "language": "python"
    },
    "language_info": {
      "mimetype": "text/x-python",
      "nbconvert_exporter": "python",
      "name": "python",
      "pygments_lexer": "ipython3",
      "version": "3.6.6",
      "file_extension": ".py",
      "codemirror_mode": {
        "version": 3,
        "name": "ipython"
      }
    }
  },
  "nbformat": 4,
  "nbformat_minor": 2
}
{
  "cells": [
    {
      "metadata": {
        "trusted": true
      },
      "cell_type": "code",
      "source": "from datetime import datetime, date\n\ntoday = datetime.today().date()\nprint(today)\ntoday = int(today.strftime('%w'))\nprint(today)\n\nd = date(2019, 11, 26)\nd = int(d.strftime('%w'))\nprint(d)\n",
      "execution_count": 6,
      "outputs": [
        {
          "output_type": "stream",
          "text": "2019-11-22\n5\n2\n",
          "name": "stdout"
        }
      ]
    }
  ],
  "metadata": {
    "kernelspec": {
      "name": "python36",
      "display_name": "Python 3.6",
      "language": "python"
    },
    "language_info": {
      "mimetype": "text/x-python",
      "nbconvert_exporter": "python",
      "name": "python",
      "pygments_lexer": "ipython3",
      "version": "3.6.6",
      "file_extension": ".py",
      "codemirror_mode": {
        "version": 3,
        "name": "ipython"
      }
    }
  },
  "nbformat": 4,
  "nbformat_minor": 2
}
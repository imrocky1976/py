{
 "cells": [
  {
   "cell_type": "code",
   "execution_count": 10,
   "metadata": {},
   "outputs": [
    {
     "name": "stdout",
     "output_type": "stream",
     "text": [
      "True\n"
     ]
    },
    {
     "data": {
      "text/plain": [
       "'\\u3000\\u300012月6日，由中国（深圳）综合开发研究院和国家发展和改革委员会国际合作中心共同举办的“2019协同创新高端论坛”在北京召开。会议重点研讨如何构建新型城乡关系，促进乡村振兴和农业农村现代化，以推动中国经济社会的高质量与和谐发展。'"
      ]
     },
     "execution_count": 10,
     "metadata": {},
     "output_type": "execute_result"
    }
   ],
   "source": [
    "import re\n",
    "p_text = '　　新浪财经讯 12月6日，由中国（深圳）综合开发研究院和国家发展和改革委员会国际合作中心共同举办的“2019协同创新高端论坛”在北京召开。会议重点研讨如何构建新型城乡关系，促进乡村振兴和农业农村现代化，以推动中国经济社会的高质量与和谐发展。'\n",
    "print(p_text.startswith('\\u3000\\u3000新浪财经讯 '))\n",
    "#p_text = '\\u3000\\u3000' + p_text[len('\\u3000\\u3000新浪财经讯 '):]\n",
    "p_text = re.sub('^\\u3000\\u3000新浪.{0,6}讯 ', '\\u3000\\u3000', p_text)\n",
    "p_text"
   ]
  }
 ],
 "metadata": {
  "kernelspec": {
   "display_name": "Python 3",
   "language": "python",
   "name": "python3"
  },
  "language_info": {
   "codemirror_mode": {
    "name": "ipython",
    "version": 3
   },
   "file_extension": ".py",
   "mimetype": "text/x-python",
   "name": "python",
   "nbconvert_exporter": "python",
   "pygments_lexer": "ipython3",
   "version": "3.7.4"
  }
 },
 "nbformat": 4,
 "nbformat_minor": 2
}

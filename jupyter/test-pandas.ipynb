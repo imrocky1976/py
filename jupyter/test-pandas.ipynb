{
  "cells": [
    {
      "metadata": {
        "trusted": true
      },
      "cell_type": "code",
      "source": "import pandas as pd\nfrom io import StringIO\n\n\nhtml = '<table><tr><td>1</td><td>2</td><td>3</td></tr><tr><td>4</td><td>5</td><td>6</td></tr></table>'\nhtml",
      "execution_count": 7,
      "outputs": [
        {
          "output_type": "execute_result",
          "execution_count": 7,
          "data": {
            "text/plain": "'<table><tr><td>1</td><td>2</td><td>3</td></tr><tr><td>4</td><td>5</td><td>6</td></tr></table>'"
          },
          "metadata": {}
        }
      ]
    },
    {
      "metadata": {
        "trusted": true
      },
      "cell_type": "code",
      "source": "# read HTML tables into a list od DataFrame objects\ndf = pd.read_html(StringIO(html))\ndf",
      "execution_count": 8,
      "outputs": [
        {
          "output_type": "execute_result",
          "execution_count": 8,
          "data": {
            "text/plain": "[   0  1  2\n 0  1  2  3\n 1  4  5  6]"
          },
          "metadata": {}
        }
      ]
    },
    {
      "metadata": {
        "trusted": true
      },
      "cell_type": "code",
      "source": "df =df[0]\n# drop column of index 2\ndf = df.drop(2, axis=1)\ndf",
      "execution_count": 9,
      "outputs": [
        {
          "output_type": "execute_result",
          "execution_count": 9,
          "data": {
            "text/html": "<div>\n<table border=\"1\" class=\"dataframe\">\n  <thead>\n    <tr style=\"text-align: right;\">\n      <th></th>\n      <th>0</th>\n      <th>1</th>\n    </tr>\n  </thead>\n  <tbody>\n    <tr>\n      <th>0</th>\n      <td>1</td>\n      <td>2</td>\n    </tr>\n    <tr>\n      <th>1</th>\n      <td>4</td>\n      <td>5</td>\n    </tr>\n  </tbody>\n</table>\n</div>",
            "text/plain": "   0  1\n0  1  2\n1  4  5"
          },
          "metadata": {}
        }
      ]
    },
    {
      "metadata": {
        "trusted": true
      },
      "cell_type": "code",
      "source": "# change column tag\ncolumn_tag = ['first', 'second']\ndf.columns = column_tag\ndf",
      "execution_count": 10,
      "outputs": [
        {
          "output_type": "execute_result",
          "execution_count": 10,
          "data": {
            "text/html": "<div>\n<table border=\"1\" class=\"dataframe\">\n  <thead>\n    <tr style=\"text-align: right;\">\n      <th></th>\n      <th>first</th>\n      <th>second</th>\n    </tr>\n  </thead>\n  <tbody>\n    <tr>\n      <th>0</th>\n      <td>1</td>\n      <td>2</td>\n    </tr>\n    <tr>\n      <th>1</th>\n      <td>4</td>\n      <td>5</td>\n    </tr>\n  </tbody>\n</table>\n</div>",
            "text/plain": "   first  second\n0      1       2\n1      4       5"
          },
          "metadata": {}
        }
      ]
    },
    {
      "metadata": {
        "trusted": true
      },
      "cell_type": "code",
      "source": "# append df to another df\ndf_all = pd.DataFrame()\ndf_all = df_all.append(df, ignore_index=True)\ndf_all = df_all.append(df, ignore_index=True)\ndf_all",
      "execution_count": 13,
      "outputs": [
        {
          "output_type": "execute_result",
          "execution_count": 13,
          "data": {
            "text/html": "<div>\n<table border=\"1\" class=\"dataframe\">\n  <thead>\n    <tr style=\"text-align: right;\">\n      <th></th>\n      <th>first</th>\n      <th>second</th>\n    </tr>\n  </thead>\n  <tbody>\n    <tr>\n      <th>0</th>\n      <td>1</td>\n      <td>2</td>\n    </tr>\n    <tr>\n      <th>1</th>\n      <td>4</td>\n      <td>5</td>\n    </tr>\n    <tr>\n      <th>2</th>\n      <td>1</td>\n      <td>2</td>\n    </tr>\n    <tr>\n      <th>3</th>\n      <td>4</td>\n      <td>5</td>\n    </tr>\n  </tbody>\n</table>\n</div>",
            "text/plain": "   first  second\n0      1       2\n1      4       5\n2      1       2\n3      4       5"
          },
          "metadata": {}
        }
      ]
    },
    {
      "metadata": {
        "trusted": true
      },
      "cell_type": "code",
      "source": "# write to csv\ndf_all.to_csv('./test_pd.csv')",
      "execution_count": 14,
      "outputs": []
    },
    {
      "metadata": {
        "trusted": true
      },
      "cell_type": "code",
      "source": "# from dic\ndic = {'1': [1,2], '2': [2,3], '3': [3,4]}\ndf = pd.DataFrame.from_dict(dic)\ndf",
      "execution_count": 21,
      "outputs": [
        {
          "output_type": "execute_result",
          "execution_count": 21,
          "data": {
            "text/html": "<div>\n<table border=\"1\" class=\"dataframe\">\n  <thead>\n    <tr style=\"text-align: right;\">\n      <th></th>\n      <th>1</th>\n      <th>2</th>\n      <th>3</th>\n    </tr>\n  </thead>\n  <tbody>\n    <tr>\n      <th>0</th>\n      <td>1</td>\n      <td>2</td>\n      <td>3</td>\n    </tr>\n    <tr>\n      <th>1</th>\n      <td>2</td>\n      <td>3</td>\n      <td>4</td>\n    </tr>\n  </tbody>\n</table>\n</div>",
            "text/plain": "   1  2  3\n0  1  2  3\n1  2  3  4"
          },
          "metadata": {}
        }
      ]
    },
    {
      "metadata": {
        "trusted": true
      },
      "cell_type": "code",
      "source": "# get cell value\nprint(df.at[0, '1'])\nprint(df['1'])\nprint(type(df['1']))",
      "execution_count": 26,
      "outputs": [
        {
          "output_type": "stream",
          "text": "1\n0    1\n1    2\nName: 1, dtype: int64\n<class 'pandas.core.series.Series'>\n",
          "name": "stdout"
        }
      ]
    },
    {
      "metadata": {
        "trusted": true
      },
      "cell_type": "code",
      "source": "import numpy as np \ndf2 = pd.DataFrame(np.array([[1, 2, 3], [4, 5, 6], [7, 8, 9]]), index=[1,2,3], columns=['a', 'b', 'c'])\ndf2",
      "execution_count": 34,
      "outputs": [
        {
          "output_type": "execute_result",
          "execution_count": 34,
          "data": {
            "text/html": "<div>\n<table border=\"1\" class=\"dataframe\">\n  <thead>\n    <tr style=\"text-align: right;\">\n      <th></th>\n      <th>a</th>\n      <th>b</th>\n      <th>c</th>\n    </tr>\n  </thead>\n  <tbody>\n    <tr>\n      <th>1</th>\n      <td>1</td>\n      <td>2</td>\n      <td>3</td>\n    </tr>\n    <tr>\n      <th>2</th>\n      <td>4</td>\n      <td>5</td>\n      <td>6</td>\n    </tr>\n    <tr>\n      <th>3</th>\n      <td>7</td>\n      <td>8</td>\n      <td>9</td>\n    </tr>\n  </tbody>\n</table>\n</div>",
            "text/plain": "   a  b  c\n1  1  2  3\n2  4  5  6\n3  7  8  9"
          },
          "metadata": {}
        }
      ]
    },
    {
      "metadata": {
        "trusted": true
      },
      "cell_type": "code",
      "source": "print(df2.axes)\nprint(df2.index)\nprint(df2.columns)\nprint(type(df2.columns))",
      "execution_count": 38,
      "outputs": [
        {
          "output_type": "stream",
          "text": "[Int64Index([1, 2, 3], dtype='int64'), Index(['a', 'b', 'c'], dtype='object')]\nInt64Index([1, 2, 3], dtype='int64')\nIndex(['a', 'b', 'c'], dtype='object')\n<class 'pandas.indexes.base.Index'>\n",
          "name": "stdout"
        }
      ]
    },
    {
      "metadata": {
        "trusted": true
      },
      "cell_type": "code",
      "source": "# 计算移动平均线  长度=3\nimport pandas as pd\nimport numpy as np\nMD = []\nvalues = []\ndf = pd.DataFrame(np.array([[1,2,3,4,5,6,7,8,9], [1,2,3,4,5,6,7,8,9]]).T, columns=['a', 'b'])\nfor index, row in df.iterrows():\n    values.append(row['b'])\n    if len(values) == 4:\n        del values[0]\n    print(values)\n    MD.append(np.average(values))\n\nprint(MD)\nprint(type(MD))\nprint(np.asarray(MD))\nprint(type(np.asarray(MD)))",
      "execution_count": 7,
      "outputs": [
        {
          "output_type": "stream",
          "text": "[1]\n[1, 2]\n[1, 2, 3]\n[2, 3, 4]\n[3, 4, 5]\n[4, 5, 6]\n[5, 6, 7]\n[6, 7, 8]\n[7, 8, 9]\n[1.0, 1.5, 2.0, 3.0, 4.0, 5.0, 6.0, 7.0, 8.0]\n<class 'list'>\n[1.  1.5 2.  3.  4.  5.  6.  7.  8. ]\n<class 'numpy.ndarray'>\n",
          "name": "stdout"
        }
      ]
    }
  ],
  "metadata": {
    "kernelspec": {
      "name": "python3",
      "display_name": "Python 3",
      "language": "python"
    }
  },
  "nbformat": 4,
  "nbformat_minor": 2
}
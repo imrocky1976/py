{
 "cells": [
  {
   "cell_type": "code",
   "execution_count": 1,
   "metadata": {},
   "outputs": [
    {
     "data": {
      "text/plain": [
       "[<Element tr at 0x7f9c5ddcc5e8>,\n",
       " <Element tr at 0x7f9c5ddcca98>,\n",
       " <Element tr at 0x7f9c5ddeb368>,\n",
       " <Element tr at 0x7f9c5dd7de58>,\n",
       " <Element tr at 0x7f9c5dd7dea8>,\n",
       " <Element tr at 0x7f9c5dd7def8>,\n",
       " <Element tr at 0x7f9c5dd7df48>,\n",
       " <Element tr at 0x7f9c5dd7df98>,\n",
       " <Element tr at 0x7f9c5dd01048>,\n",
       " <Element tr at 0x7f9c5dd01098>,\n",
       " <Element tr at 0x7f9c5dd010e8>,\n",
       " <Element tr at 0x7f9c5dd01138>,\n",
       " <Element tr at 0x7f9c5dd01188>,\n",
       " <Element tr at 0x7f9c5dd011d8>,\n",
       " <Element tr at 0x7f9c5dd01228>,\n",
       " <Element tr at 0x7f9c5dd01278>,\n",
       " <Element tr at 0x7f9c5dd012c8>,\n",
       " <Element tr at 0x7f9c5dd01318>,\n",
       " <Element tr at 0x7f9c5dd01368>,\n",
       " <Element tr at 0x7f9c5dd013b8>,\n",
       " <Element tr at 0x7f9c5dd01408>,\n",
       " <Element tr at 0x7f9c5dd01458>,\n",
       " <Element tr at 0x7f9c5dd014a8>,\n",
       " <Element tr at 0x7f9c5dd014f8>,\n",
       " <Element tr at 0x7f9c5dd01548>,\n",
       " <Element tr at 0x7f9c5dd01598>,\n",
       " <Element tr at 0x7f9c5dd015e8>,\n",
       " <Element tr at 0x7f9c5dd01638>,\n",
       " <Element tr at 0x7f9c5dd01688>,\n",
       " <Element tr at 0x7f9c5dd016d8>,\n",
       " <Element tr at 0x7f9c5dd01728>,\n",
       " <Element tr at 0x7f9c5dd01778>,\n",
       " <Element tr at 0x7f9c5dd017c8>,\n",
       " <Element tr at 0x7f9c5dd01818>,\n",
       " <Element tr at 0x7f9c5dd01868>,\n",
       " <Element tr at 0x7f9c5dd018b8>,\n",
       " <Element tr at 0x7f9c5dd01908>,\n",
       " <Element tr at 0x7f9c5dd01958>,\n",
       " <Element tr at 0x7f9c5dd019a8>,\n",
       " <Element tr at 0x7f9c5dd019f8>]"
      ]
     },
     "execution_count": 1,
     "metadata": {},
     "output_type": "execute_result"
    }
   ],
   "source": [
    "import lxml.html\n",
    "from lxml import etree\n",
    "\n",
    "html = lxml.html.parse('http://vip.stock.finance.sina.com.cn/q/go.php/vFinanceAnalyze/kind/mainindex/index.phtml?s_i=&s_a=&s_c=&reportdate=2019&quarter=3&p=93')\n",
    "res = html.xpath('//table[@class=\"list_table\"]/tr')\n",
    "res"
   ]
  },
  {
   "cell_type": "code",
   "execution_count": 2,
   "metadata": {},
   "outputs": [
    {
     "data": {
      "text/plain": [
       "['<tr>&#13;\\n                <td style=\"width:60px;text-align:center\"><span id=\"stock_sz000851\"><a href=\"http://finance.sina.com.cn/realstock/company/sz000851/nc.shtml\" class=\"keyword\" target=\"_blank\">000851</a></span></td>&#13;\\n        <td style=\"width:60px;text-align:center\"><span id=\"stock_name_sz000851\"><a href=\"http://finance.sina.com.cn/realstock/company/sz000851/nc.shtml\" class=\"keyword\" target=\"_blank\">&#39640;&#40511;&#32929;&#20221;</a></span></td>&#13;\\n                <td>0.03</td>&#13;\\n        <td>-26.29</td>&#13;\\n        <td>--</td>&#13;\\n        <td>0.79</td>&#13;\\n        <td>--</td>&#13;\\n        <td>2640.17</td>&#13;\\n        <td>-26.11</td>&#13;\\n        <td>--</td>&#13;\\n         \\t\\t<td>10-18</td>&#13;\\n\\t\\t\\t\\t<td><a href=\"http://vip.stock.finance.sina.com.cn/corp/go.php/vFD_ProfitStatement/stockid/000851/ctrl/part/displaytype/4.phtml\" target=\"_blank\">&#35814;&#32454;</a></td>&#13;\\n        </tr>&#13;\\n&#13;\\n                ',\n",
       " '<tr class=\"blue\">&#13;\\n                <td style=\"width:60px;text-align:center\"><span id=\"stock_sz000404\"><a href=\"http://finance.sina.com.cn/realstock/company/sz000404/nc.shtml\" class=\"keyword\" target=\"_blank\">000404</a></span></td>&#13;\\n        <td style=\"width:60px;text-align:center\"><span id=\"stock_name_sz000404\"><a href=\"http://finance.sina.com.cn/realstock/company/sz000404/nc.shtml\" class=\"keyword\" target=\"_blank\">&#38271;&#34425;&#21326;&#24847;</a></span></td>&#13;\\n                <td>0.09</td>&#13;\\n        <td>-2.44</td>&#13;\\n        <td>--</td>&#13;\\n        <td>1.89</td>&#13;\\n        <td>--</td>&#13;\\n        <td>6119.48</td>&#13;\\n        <td>-2.37</td>&#13;\\n        <td>--</td>&#13;\\n         \\t\\t<td>10-18</td>&#13;\\n\\t\\t\\t\\t<td><a href=\"http://vip.stock.finance.sina.com.cn/corp/go.php/vFD_ProfitStatement/stockid/000404/ctrl/part/displaytype/4.phtml\" target=\"_blank\">&#35814;&#32454;</a></td>&#13;\\n        </tr>&#13;\\n&#13;\\n                ',\n",
       " '<tr>&#13;\\n                <td style=\"width:60px;text-align:center\"><span id=\"stock_sz000514\"><a href=\"http://finance.sina.com.cn/realstock/company/sz000514/nc.shtml\" class=\"keyword\" target=\"_blank\">000514</a></span></td>&#13;\\n        <td style=\"width:60px;text-align:center\"><span id=\"stock_name_sz000514\"><a href=\"http://finance.sina.com.cn/realstock/company/sz000514/nc.shtml\" class=\"keyword\" target=\"_blank\">&#28189;&#24320;&#21457;</a></span></td>&#13;\\n                <td>0.01</td>&#13;\\n        <td>-4.32</td>&#13;\\n        <td>--</td>&#13;\\n        <td>0.37</td>&#13;\\n        <td>--</td>&#13;\\n        <td>1121.13</td>&#13;\\n        <td>-4.66</td>&#13;\\n        <td>--</td>&#13;\\n         \\t\\t<td>10-18</td>&#13;\\n\\t\\t\\t\\t<td><a href=\"http://vip.stock.finance.sina.com.cn/corp/go.php/vFD_ProfitStatement/stockid/000514/ctrl/part/displaytype/4.phtml\" target=\"_blank\">&#35814;&#32454;</a></td>&#13;\\n        </tr>&#13;\\n&#13;\\n                ',\n",
       " '<tr class=\"blue\">&#13;\\n                <td style=\"width:60px;text-align:center\"><span id=\"stock_sh603979\"><a href=\"http://finance.sina.com.cn/realstock/company/sh603979/nc.shtml\" class=\"keyword\" target=\"_blank\">603979</a></span></td>&#13;\\n        <td style=\"width:60px;text-align:center\"><span id=\"stock_name_sh603979\"><a href=\"http://finance.sina.com.cn/realstock/company/sh603979/nc.shtml\" class=\"keyword\" target=\"_blank\">&#37329;&#35802;&#20449;</a></span></td>&#13;\\n                <td>0.4</td>&#13;\\n        <td>5.26</td>&#13;\\n        <td>--</td>&#13;\\n        <td>5.62</td>&#13;\\n        <td>--</td>&#13;\\n        <td>23282.11</td>&#13;\\n        <td>3.79</td>&#13;\\n        <td>--</td>&#13;\\n         \\t\\t<td>10-18</td>&#13;\\n\\t\\t\\t\\t<td><a href=\"http://vip.stock.finance.sina.com.cn/corp/go.php/vFD_ProfitStatement/stockid/603979/ctrl/part/displaytype/4.phtml\" target=\"_blank\">&#35814;&#32454;</a></td>&#13;\\n        </tr>&#13;\\n&#13;\\n                ',\n",
       " '<tr>&#13;\\n                <td style=\"width:60px;text-align:center\"><span id=\"stock_sz002479\"><a href=\"http://finance.sina.com.cn/realstock/company/sz002479/nc.shtml\" class=\"keyword\" target=\"_blank\">002479</a></span></td>&#13;\\n        <td style=\"width:60px;text-align:center\"><span id=\"stock_name_sz002479\"><a href=\"http://finance.sina.com.cn/realstock/company/sz002479/nc.shtml\" class=\"keyword\" target=\"_blank\">&#23500;&#26149;&#29615;&#20445;</a></span></td>&#13;\\n                <td>0.26</td>&#13;\\n        <td>23.81</td>&#13;\\n        <td>--</td>&#13;\\n        <td>6.1</td>&#13;\\n        <td>--</td>&#13;\\n        <td>23081.62</td>&#13;\\n        <td>31.43</td>&#13;\\n        <td>--</td>&#13;\\n         \\t\\t<td>10-18</td>&#13;\\n\\t\\t\\t\\t<td><a href=\"http://vip.stock.finance.sina.com.cn/corp/go.php/vFD_ProfitStatement/stockid/002479/ctrl/part/displaytype/4.phtml\" target=\"_blank\">&#35814;&#32454;</a></td>&#13;\\n        </tr>&#13;\\n&#13;\\n                ']"
      ]
     },
     "execution_count": 2,
     "metadata": {},
     "output_type": "execute_result"
    }
   ],
   "source": [
    "sarr = [etree.tostring(node).decode('utf-8') for node in res[:5]]\n",
    "sarr"
   ]
  },
  {
   "cell_type": "code",
   "execution_count": 3,
   "metadata": {},
   "outputs": [
    {
     "data": {
      "text/html": [
       "<div>\n",
       "<style scoped>\n",
       "    .dataframe tbody tr th:only-of-type {\n",
       "        vertical-align: middle;\n",
       "    }\n",
       "\n",
       "    .dataframe tbody tr th {\n",
       "        vertical-align: top;\n",
       "    }\n",
       "\n",
       "    .dataframe thead th {\n",
       "        text-align: right;\n",
       "    }\n",
       "</style>\n",
       "<table border=\"1\" class=\"dataframe\">\n",
       "  <thead>\n",
       "    <tr style=\"text-align: right;\">\n",
       "      <th></th>\n",
       "      <th>0</th>\n",
       "      <th>1</th>\n",
       "      <th>2</th>\n",
       "      <th>3</th>\n",
       "      <th>4</th>\n",
       "      <th>5</th>\n",
       "      <th>6</th>\n",
       "      <th>7</th>\n",
       "      <th>8</th>\n",
       "      <th>9</th>\n",
       "      <th>10</th>\n",
       "      <th>11</th>\n",
       "    </tr>\n",
       "  </thead>\n",
       "  <tbody>\n",
       "    <tr>\n",
       "      <th>0</th>\n",
       "      <td>851</td>\n",
       "      <td>高鸿股份</td>\n",
       "      <td>0.03</td>\n",
       "      <td>-26.29</td>\n",
       "      <td>NaN</td>\n",
       "      <td>0.79</td>\n",
       "      <td>NaN</td>\n",
       "      <td>2640.17</td>\n",
       "      <td>-26.11</td>\n",
       "      <td>NaN</td>\n",
       "      <td>10-18</td>\n",
       "      <td>详细</td>\n",
       "    </tr>\n",
       "    <tr>\n",
       "      <th>1</th>\n",
       "      <td>404</td>\n",
       "      <td>长虹华意</td>\n",
       "      <td>0.09</td>\n",
       "      <td>-2.44</td>\n",
       "      <td>NaN</td>\n",
       "      <td>1.89</td>\n",
       "      <td>NaN</td>\n",
       "      <td>6119.48</td>\n",
       "      <td>-2.37</td>\n",
       "      <td>NaN</td>\n",
       "      <td>10-18</td>\n",
       "      <td>详细</td>\n",
       "    </tr>\n",
       "    <tr>\n",
       "      <th>2</th>\n",
       "      <td>514</td>\n",
       "      <td>渝开发</td>\n",
       "      <td>0.01</td>\n",
       "      <td>-4.32</td>\n",
       "      <td>NaN</td>\n",
       "      <td>0.37</td>\n",
       "      <td>NaN</td>\n",
       "      <td>1121.13</td>\n",
       "      <td>-4.66</td>\n",
       "      <td>NaN</td>\n",
       "      <td>10-18</td>\n",
       "      <td>详细</td>\n",
       "    </tr>\n",
       "    <tr>\n",
       "      <th>3</th>\n",
       "      <td>603979</td>\n",
       "      <td>金诚信</td>\n",
       "      <td>0.40</td>\n",
       "      <td>5.26</td>\n",
       "      <td>NaN</td>\n",
       "      <td>5.62</td>\n",
       "      <td>NaN</td>\n",
       "      <td>23282.11</td>\n",
       "      <td>3.79</td>\n",
       "      <td>NaN</td>\n",
       "      <td>10-18</td>\n",
       "      <td>详细</td>\n",
       "    </tr>\n",
       "    <tr>\n",
       "      <th>4</th>\n",
       "      <td>2479</td>\n",
       "      <td>富春环保</td>\n",
       "      <td>0.26</td>\n",
       "      <td>23.81</td>\n",
       "      <td>NaN</td>\n",
       "      <td>6.10</td>\n",
       "      <td>NaN</td>\n",
       "      <td>23081.62</td>\n",
       "      <td>31.43</td>\n",
       "      <td>NaN</td>\n",
       "      <td>10-18</td>\n",
       "      <td>详细</td>\n",
       "    </tr>\n",
       "  </tbody>\n",
       "</table>\n",
       "</div>"
      ],
      "text/plain": [
       "       0     1     2      3   4     5   6         7      8   9      10  11\n",
       "0     851  高鸿股份  0.03 -26.29 NaN  0.79 NaN   2640.17 -26.11 NaN  10-18  详细\n",
       "1     404  长虹华意  0.09  -2.44 NaN  1.89 NaN   6119.48  -2.37 NaN  10-18  详细\n",
       "2     514   渝开发  0.01  -4.32 NaN  0.37 NaN   1121.13  -4.66 NaN  10-18  详细\n",
       "3  603979   金诚信  0.40   5.26 NaN  5.62 NaN  23282.11   3.79 NaN  10-18  详细\n",
       "4    2479  富春环保  0.26  23.81 NaN  6.10 NaN  23081.62  31.43 NaN  10-18  详细"
      ]
     },
     "execution_count": 3,
     "metadata": {},
     "output_type": "execute_result"
    }
   ],
   "source": [
    "sarr = ''.join(sarr)\n",
    "sarr = sarr.replace('--', '')\n",
    "sarr = '<table>%s</table>'%sarr\n",
    "\n",
    "import pandas as pd\n",
    "df = pd.read_html(sarr)[0]\n",
    "df\n",
    "df.to_csv('./stocreport.csv')"
   ]
  },
  {
   "cell_type": "code",
   "execution_count": 4,
   "metadata": {},
   "outputs": [
    {
     "name": "stdout",
     "output_type": "stream",
     "text": [
      "94\n"
     ]
    }
   ],
   "source": [
    "import re\n",
    "nextPage = html.xpath('//div[@class=\\\"pages\\\"]/a[last()]/@onclick')\n",
    "if len(nextPage)>0:\n",
    "    pageNo = re.findall(r'\\d+', nextPage[0])[0]\n",
    "    print(pageNo)\n",
    "else:\n",
    "    print('end')"
   ]
  },
  {
   "cell_type": "code",
   "execution_count": 6,
   "metadata": {},
   "outputs": [
    {
     "name": "stdout",
     "output_type": "stream",
     "text": [
      "1575540561\n"
     ]
    }
   ],
   "source": [
    "from datetime import datetime\n",
    "print(int(datetime.now().timestamp()))"
   ]
  }
 ],
 "metadata": {
  "kernelspec": {
   "display_name": "Python 3",
   "language": "python",
   "name": "python3"
  },
  "language_info": {
   "codemirror_mode": {
    "name": "ipython",
    "version": 3
   },
   "file_extension": ".py",
   "mimetype": "text/x-python",
   "name": "python",
   "nbconvert_exporter": "python",
   "pygments_lexer": "ipython3",
   "version": "3.7.4"
  }
 },
 "nbformat": 4,
 "nbformat_minor": 2
}
